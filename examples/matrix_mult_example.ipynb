{
 "metadata": {
  "name": "matrix_mult_example"
 },
 "nbformat": 3,
 "nbformat_minor": 0,
 "worksheets": [
  {
   "cells": [
    {
     "cell_type": "code",
     "collapsed": false,
     "input": [
      "%%file test1.py\n",
      "import multiprocessing\n",
      "from qcml import QCML\n",
      "import numpy as np\n",
      "\n",
      "class PersistMult(multiprocessing.Process):\n",
      "    #def __init__(self,c=None,A=None,b=None,G=None,h=None,rho=1):\n",
      "    def __init__(self,A,in_queue,out_queue):\n",
      "        '''first, we try matrix multiply'''\n",
      "        '''sets up prox function'''\n",
      "        super(PersistMult, self).__init__()\n",
      "        self.A = A\n",
      "        self.in_queue = in_queue\n",
      "        self.out_queue = out_queue\n",
      "        \n",
      "    def mult(self,v):\n",
      "        '''does matrix multiply'''\n",
      "        '''computes prox_{f/rho}(v)'''\n",
      "        return self.A.dot(v)\n",
      "    \n",
      "    def run(self):\n",
      "        while True:\n",
      "            next_task = self.in_queue.get()\n",
      "            if next_task is None:\n",
      "                # Poison pill means we should exit\n",
      "                print '%s: Exiting' % self.name\n",
      "                break\n",
      "            answer = self.mult(next_task)\n",
      "            self.out_queue.put(answer)\n",
      "            in_queue.task_done()\n",
      "        return\n",
      "    \n",
      "in_queue = multiprocessing.JoinableQueue()\n",
      "out_queue = multiprocessing.JoinableQueue()\n",
      "\n",
      "    \n",
      "proxes = []\n",
      "mats = []\n",
      "diffs = []\n",
      "\n",
      "num_mats = 5\n",
      "n = 11\n",
      "for i in range(num_mats):\n",
      "    A = np.random.randn(n,n)\n",
      "    A = A + A.T\n",
      "    mats.append(A)\n",
      "    \n",
      "    p = PersistMult(A,in_queue,out_queue)\n",
      "    p.start()\n",
      "    proxes.append(p)\n",
      "    \n",
      "xbar = np.ones((n))\n",
      "for j in range(100):\n",
      "    #print 'iter %d'%j\n",
      "    for i in range(num_mats):\n",
      "        in_queue.put(xbar)\n",
      "    in_queue.join() #syncronize to when the in_queue is empty\n",
      "    total = np.zeros((n))\n",
      "    for i in range(num_mats):\n",
      "        total += out_queue.get()\n",
      "        out_queue.task_done()\n",
      "    #out_queue.join()\n",
      "    xbar_old = xbar\n",
      "    xbar = total/np.linalg.norm(total)\n",
      "    xbar = xbar*np.sign(xbar[0])\n",
      "    diffs.append(np.linalg.norm(xbar-xbar_old))\n",
      "\n",
      "\n",
      "#stops the proxes from running\n",
      "for i in range(num_mats):\n",
      "    in_queue.put(None)\n",
      "\n",
      "for p in proxes:\n",
      "    p.join()\n",
      "    \n",
      "#for i in range(10):\n",
      "#    x = out_queue.get()\n",
      "#    print x\n",
      "\n",
      "import pylab\n",
      "pylab.semilogy(diffs)\n",
      "pylab.show()\n"
     ],
     "language": "python",
     "metadata": {},
     "outputs": [
      {
       "output_type": "stream",
       "stream": "stdout",
       "text": [
        "Overwriting test1.py\n"
       ]
      }
     ],
     "prompt_number": 45
    },
    {
     "cell_type": "code",
     "collapsed": false,
     "input": [
      "%%bash\n",
      "python test1.py"
     ],
     "language": "python",
     "metadata": {},
     "outputs": [
      {
       "output_type": "stream",
       "stream": "stdout",
       "text": [
        "PersistMult-3: Exiting\n",
        "PersistMult-1: Exiting\n",
        "PersistMult-2: Exiting\n",
        "PersistMult-4: Exiting\n",
        "PersistMult-5: Exiting\n"
       ]
      }
     ],
     "prompt_number": 46
    },
    {
     "cell_type": "code",
     "collapsed": false,
     "input": [],
     "language": "python",
     "metadata": {},
     "outputs": [],
     "prompt_number": 33
    },
    {
     "cell_type": "code",
     "collapsed": false,
     "input": [],
     "language": "python",
     "metadata": {},
     "outputs": []
    }
   ],
   "metadata": {}
  }
 ]
}