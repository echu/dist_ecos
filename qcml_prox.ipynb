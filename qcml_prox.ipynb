{
 "metadata": {
  "name": ""
 },
 "nbformat": 3,
 "nbformat_minor": 0,
 "worksheets": [
  {
   "cells": [
    {
     "cell_type": "code",
     "collapsed": false,
     "input": [
      "%load problem.py\n",
      "%load qcml_prox.py"
     ],
     "language": "python",
     "metadata": {},
     "outputs": [
      {
       "output_type": "stream",
       "stream": "stdout",
       "text": [
        "Overwriting problem.py\n"
       ]
      }
     ],
     "prompt_number": 4
    },
    {
     "cell_type": "code",
     "collapsed": false,
     "input": [
      "%%bash\n",
      "python qcml_prox.py > temp.out"
     ],
     "language": "python",
     "metadata": {},
     "outputs": [
      {
       "output_type": "stream",
       "stream": "stderr",
       "text": [
        "/Users/ajfriend/anaconda/lib/python2.7/site-packages/ecos.py:24: UserWarning: Converting G to a CSC matrix; may take a while.\n",
        "  warn(\"Converting G to a CSC matrix; may take a while.\")\n",
        "/Users/ajfriend/anaconda/lib/python2.7/site-packages/ecos.py:27: UserWarning: Converting A to a CSC matrix; may take a while.\n",
        "  warn(\"Converting A to a CSC matrix; may take a while.\")\n"
       ]
      }
     ],
     "prompt_number": 3
    },
    {
     "cell_type": "code",
     "collapsed": false,
     "input": [
      "%run problem.py"
     ],
     "language": "python",
     "metadata": {},
     "outputs": [
      {
       "output_type": "stream",
       "stream": "stdout",
       "text": [
        "parse took 0.002798 secs\n",
        "canonicalize took 0.001347 secs\n",
        "codegen took 0.002214 secs\n",
        "\n",
        "ECOS - (c) A. Domahidi, Automatic Control Laboratory, ETH Zurich, 2012-13.\n",
        "\n",
        "It     pcost         dcost      gap     pres    dres     k/t     mu     step    IR\n",
        " 0   +0.000e+00   -0.000e+00   +3e+01   8e+00   4e-02   1e+00   7e-01   N/A    1 1 -\n",
        " 1   +5.610e-01   +5.610e-01   +4e+00   1e+00   6e-03   2e-01   1e-01  0.8444  1 1 1\n",
        " 2   +1.886e+00   +1.885e+00   +8e-01   2e-01   1e-03   3e-02   2e-02  0.8438  1 1 1\n",
        " 3   +2.079e+00   +2.078e+00   +2e-01   7e-02   3e-04   8e-03   6e-03  0.7330  1 1 1\n",
        " 4   +2.109e+00   +2.108e+00   +7e-02   2e-02   1e-04   2e-03   2e-03  0.8360  1 1 1\n",
        " 5   +2.127e+00   +2.127e+00   +2e-02   5e-03   2e-05   5e-04   4e-04  0.7772  1 1 1\n",
        " 6   +2.129e+00   +2.129e+00   +5e-03   1e-03   7e-06   1e-04   1e-04  0.7518  1 1 1\n",
        " 7   +2.131e+00   +2.131e+00   +2e-04   7e-05   3e-07   6e-06   6e-06  0.9790  1 1 1\n",
        " 8   +2.131e+00   +2.131e+00   +5e-06   2e-06   8e-09   1e-07   1e-07  0.9790  1 1 1\n",
        " 9   +2.131e+00   +2.131e+00   +1e-07   3e-08   2e-10   3e-09   3e-09  0.9790  1 1 1\n",
        "\n",
        "OPTIMAL (within feastol=1.0e-05, reltol=1.0e-06, abstol=1.0e-06).\n",
        "Runtime: 0.000607 seconds.\n",
        "\n",
        "parse took 0.004646 secs\n",
        "canonicalize took 0.001631 secs\n",
        "codegen took 0.002875 secs\n",
        "\n",
        "ECOS - (c) A. Domahidi, Automatic Control Laboratory, ETH Zurich, 2012-13.\n",
        "\n",
        "It     pcost         dcost      gap     pres    dres     k/t     mu     step    IR\n",
        " 0   +6.212e+00   +1.664e+00   +3e+02   3e+00   6e+00   1e+00   2e+01   N/A    1 1 -\n",
        " 1   +9.781e+00   +1.076e+01   +2e+02   3e+00   4e+00   5e+00   1e+01  0.4785  1 1 1\n",
        " 2   +6.762e+00   +9.257e+00   +1e+02   7e-01   1e+00   4e+00   6e+00  0.5488  1 1 1\n",
        " 3   +1.944e+00   +4.592e+00   +7e+01   6e-01   1e+00   4e+00   5e+00  0.5958  1 1 1\n",
        " 4   +3.557e+00   +4.480e+00   +4e+01   3e-01   5e-01   1e+00   3e+00  0.7157  1 1 1\n",
        " 5   +3.319e+00   +3.555e+00   +9e+00   6e-02   1e-01   3e-01   6e-01  0.8436  1 1 1\n",
        " 6   +2.781e+00   +2.873e+00   +4e+00   3e-02   5e-02   1e-01   3e-01  0.8059  2 1 1\n",
        " 7   +2.637e+00   +2.652e+00   +8e-01   5e-03   9e-03   2e-02   5e-02  0.8525  1 1 1\n",
        " 8   +2.565e+00   +2.568e+00   +3e-01   2e-03   3e-03   7e-03   2e-02  0.8876  2 1 1\n",
        " 9   +2.546e+00   +2.547e+00   +3e-02   2e-04   3e-04   6e-04   2e-03  0.9306  2 1 1\n",
        "10   +2.544e+00   +2.544e+00   +2e-03   1e-05   2e-05   4e-05   1e-04  0.9415  1 1 1\n",
        "11   +2.544e+00   +2.544e+00   +2e-04   1e-06   2e-06   4e-06   1e-05  0.9005  2 1 1\n",
        "12   +2.544e+00   +2.544e+00   +4e-05   3e-07   5e-07   9e-07   3e-06  0.7907  2 2 2\n",
        "13   +2.544e+00   +2.544e+00   +3e-06   2e-08   3e-08   5e-08   2e-07  0.9537  3 3 3\n",
        "14   +2.544e+00   +2.544e+00   +6e-07   4e-09   7e-09   1e-08   4e-08  0.7988  3 2 2\n",
        "\n",
        "OPTIMAL (within feastol=1.0e-05, reltol=1.0e-06, abstol=1.0e-06).\n",
        "Runtime: 0.001172 seconds.\n",
        "\n",
        "{'A': <10x40 sparse matrix of type '<type 'numpy.float64'>'\n",
        "\twith 200 stored elements in Compressed Sparse Row format>, 'c': array([ 0.,  0.,  0.,  0.,  0.,  0.,  0.,  0.,  0.,  0.,  0.,  0.,  0.,\n",
        "        0.,  0.,  0.,  0.,  0.,  0.,  0.,  1.,  1.,  1.,  1.,  1.,  1.,\n",
        "        1.,  1.,  1.,  1.,  1.,  1.,  1.,  1.,  1.,  1.,  1.,  1.,  1.,  1.]), 'b': array([-1.12337623, -1.18993456, -0.82417122,  0.13167273,  0.08419025,\n",
        "       -1.67015219,  0.04269901,  0.32961862, -1.0089396 , -0.16554774]), 'G': <40x40 sparse matrix of type '<type 'numpy.float64'>'\n",
        "\twith 80 stored elements in Compressed Sparse Row format>, 'h': array([ 0.,  0.,  0.,  0.,  0.,  0.,  0.,  0.,  0.,  0.,  0.,  0.,  0.,\n",
        "        0.,  0.,  0.,  0.,  0.,  0.,  0.,  0.,  0.,  0.,  0.,  0.,  0.,\n",
        "        0.,  0.,  0.,  0.,  0.,  0.,  0.,  0.,  0.,  0.,  0.,  0.,  0.,  0.]), 'dims': {'q': [], 's': [], 'l': 40}}\n",
        "{'A': <40x50 sparse matrix of type '<type 'numpy.float64'>'\n",
        "\twith 280 stored elements in Compressed Sparse Row format>, 'c': array([-1.12337623, -1.18993456, -0.82417122,  0.13167273,  0.08419025,\n",
        "       -1.67015219,  0.04269901,  0.32961862, -1.0089396 , -0.16554774,\n",
        "        0.        ,  0.        ,  0.        ,  0.        ,  0.        ,\n",
        "        0.        ,  0.        ,  0.        ,  0.        ,  0.        ,\n",
        "        0.        ,  0.        ,  0.        ,  0.        ,  0.        ,\n",
        "        0.        ,  0.        ,  0.        ,  0.        ,  0.        ,\n",
        "        0.        ,  0.        ,  0.        ,  0.        ,  0.        ,\n",
        "        0.        ,  0.        ,  0.        ,  0.        ,  0.        ,\n",
        "        0.        ,  0.        ,  0.        ,  0.        ,  0.        ,\n",
        "        0.        ,  0.        ,  0.        ,  0.        ,  0.        ]), 'b': array([-0., -0., -0., -0., -0., -0., -0., -0., -0., -0., -0., -0., -0.,\n",
        "       -0., -0., -0., -0., -0., -0., -0., -1., -1., -1., -1., -1., -1.,\n",
        "       -1., -1., -1., -1., -1., -1., -1., -1., -1., -1., -1., -1., -1., -1.]), 'G': <40x50 sparse matrix of type '<type 'numpy.float64'>'\n",
        "\twith 40 stored elements in COOrdinate format>, 'h': array([ 0.,  0.,  0.,  0.,  0.,  0.,  0.,  0.,  0.,  0.,  0.,  0.,  0.,\n",
        "        0.,  0.,  0.,  0.,  0.,  0.,  0.,  0.,  0.,  0.,  0.,  0.,  0.,\n",
        "        0.,  0.,  0.,  0.,  0.,  0.,  0.,  0.,  0.,  0.,  0.,  0.,  0.,  0.]), 'dims': {'q': [], 's': [], 'l': 40}}\n"
       ]
      }
     ],
     "prompt_number": 25
    },
    {
     "cell_type": "code",
     "collapsed": false,
     "input": [
      "sp.hstack([gp.socp_vars['A'].T, gp.socp_vars['G'].T], 'csr')"
     ],
     "language": "python",
     "metadata": {},
     "outputs": [
      {
       "metadata": {},
       "output_type": "pyout",
       "prompt_number": 14,
       "text": [
        "<40x50 sparse matrix of type '<type 'numpy.float64'>'\n",
        "\twith 280 stored elements in Compressed Sparse Row format>"
       ]
      }
     ],
     "prompt_number": 14
    },
    {
     "cell_type": "code",
     "collapsed": false,
     "input": [
      "import scipy.sparse as sp\n",
      "import numpy as np"
     ],
     "language": "python",
     "metadata": {},
     "outputs": [],
     "prompt_number": 16
    },
    {
     "cell_type": "code",
     "collapsed": false,
     "input": [
      "a = np.hstack([gp.socp_vars['b'],gp.socp_vars['h']])"
     ],
     "language": "python",
     "metadata": {},
     "outputs": [],
     "prompt_number": 20
    },
    {
     "cell_type": "code",
     "collapsed": false,
     "input": [
      "a.shape"
     ],
     "language": "python",
     "metadata": {},
     "outputs": [
      {
       "metadata": {},
       "output_type": "pyout",
       "prompt_number": 21,
       "text": [
        "(50,)"
       ]
      }
     ],
     "prompt_number": 21
    },
    {
     "cell_type": "code",
     "collapsed": false,
     "input": [
      "spy(gp.socp_vars['A'])"
     ],
     "language": "python",
     "metadata": {},
     "outputs": [
      {
       "metadata": {},
       "output_type": "pyout",
       "prompt_number": 27,
       "text": [
        "<matplotlib.lines.Line2D at 0x1068f78d0>"
       ]
      }
     ],
     "prompt_number": 27
    },
    {
     "cell_type": "code",
     "collapsed": false,
     "input": [
      "spy(dual['G'])"
     ],
     "language": "python",
     "metadata": {},
     "outputs": [
      {
       "metadata": {},
       "output_type": "pyout",
       "prompt_number": 29,
       "text": [
        "<matplotlib.lines.Line2D at 0x1069dc910>"
       ]
      }
     ],
     "prompt_number": 29
    },
    {
     "cell_type": "code",
     "collapsed": false,
     "input": [],
     "language": "python",
     "metadata": {},
     "outputs": []
    }
   ],
   "metadata": {}
  }
 ]
}