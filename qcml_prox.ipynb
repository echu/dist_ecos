{
 "metadata": {
  "name": ""
 },
 "nbformat": 3,
 "nbformat_minor": 0,
 "worksheets": [
  {
   "cells": [
    {
     "cell_type": "code",
     "collapsed": false,
     "input": [
      "%load problem.py\n",
      "%load qcml_prox.py"
     ],
     "language": "python",
     "metadata": {},
     "outputs": [
      {
       "output_type": "stream",
       "stream": "stdout",
       "text": [
        "Overwriting problem.py\n"
       ]
      }
     ],
     "prompt_number": 4
    },
    {
     "cell_type": "code",
     "collapsed": false,
     "input": [
      "%%bash\n",
      "python qcml_prox.py > temp.out"
     ],
     "language": "python",
     "metadata": {},
     "outputs": [
      {
       "output_type": "stream",
       "stream": "stderr",
       "text": [
        "/Users/ajfriend/anaconda/lib/python2.7/site-packages/ecos.py:24: UserWarning: Converting G to a CSC matrix; may take a while.\n",
        "  warn(\"Converting G to a CSC matrix; may take a while.\")\n",
        "/Users/ajfriend/anaconda/lib/python2.7/site-packages/ecos.py:27: UserWarning: Converting A to a CSC matrix; may take a while.\n",
        "  warn(\"Converting A to a CSC matrix; may take a while.\")\n"
       ]
      }
     ],
     "prompt_number": 3
    },
    {
     "cell_type": "code",
     "collapsed": false,
     "input": [
      "#%run qcml_prox.py"
     ],
     "language": "python",
     "metadata": {},
     "outputs": [],
     "prompt_number": 2
    },
    {
     "cell_type": "code",
     "collapsed": false,
     "input": [
      "gp.socp_sol"
     ],
     "language": "python",
     "metadata": {},
     "outputs": [
      {
       "metadata": {},
       "output_type": "pyout",
       "prompt_number": 8,
       "text": [
        "array([ -6.75965198e-01,   3.21930528e-10,  -3.38041082e-01,\n",
        "        -3.19336546e-08,   8.67569791e-09,  -6.96047834e-02,\n",
        "         3.32309448e-08,  -3.48754273e-08,  -3.06993172e-01,\n",
        "        -2.00321435e-01,  -4.29272828e-11,   5.30591024e-01,\n",
        "        -2.11598941e-01,   1.77888249e-06,  -1.58902170e-02,\n",
        "        -2.31920020e-01,   1.58626152e-09,   1.01655069e-02,\n",
        "         1.55467200e-08,  -1.17704285e-08,   6.75965189e-01,\n",
        "         3.34577030e-10,   3.38041074e-01,   2.46247878e-08,\n",
        "         2.90935194e-09,   6.96047753e-02,   2.60086380e-08,\n",
        "         2.78617929e-08,   3.06993164e-01,   2.00321427e-01,\n",
        "         2.51932991e-10,   5.30591016e-01,   2.11598933e-01,\n",
        "         1.77078086e-06,   1.58902088e-02,   2.31920011e-01,\n",
        "         9.65622221e-10,   1.01654988e-02,   8.61704637e-09,\n",
        "         6.49155138e-09])"
       ]
      }
     ],
     "prompt_number": 8
    },
    {
     "cell_type": "code",
     "collapsed": false,
     "input": [
      "xbar"
     ],
     "language": "python",
     "metadata": {},
     "outputs": [
      {
       "metadata": {},
       "output_type": "pyout",
       "prompt_number": 9,
       "text": [
        "array([-0.15773592, -0.29012152, -0.35224133,  0.08970356, -0.09351562,\n",
        "        0.42272593,  0.05923031, -0.25831841, -0.34069781, -0.23298141,\n",
        "       -0.16573867,  0.11098804, -0.12116374,  0.39556823, -0.72440177,\n",
        "       -0.48290933, -0.07223423, -0.05207526,  0.03964391, -0.44668655,\n",
        "       -0.89124474, -0.45489768, -0.63199252, -0.92518532, -0.32683518,\n",
        "       -1.1395123 , -0.99439274, -1.23953707, -0.67501536, -0.6370917 ,\n",
        "       -0.93278519, -1.12993278, -1.01813739, -1.0824121 ,  0.07550829,\n",
        "       -0.77686401, -1.01106578, -0.68424174, -0.77603224, -0.82322497])"
       ]
      }
     ],
     "prompt_number": 9
    },
    {
     "cell_type": "code",
     "collapsed": false,
     "input": [],
     "language": "python",
     "metadata": {},
     "outputs": []
    }
   ],
   "metadata": {}
  }
 ]
}