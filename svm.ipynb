{
 "metadata": {
  "name": "svm"
 },
 "nbformat": 3,
 "nbformat_minor": 0,
 "worksheets": [
  {
   "cells": [
    {
     "cell_type": "code",
     "collapsed": false,
     "input": [
      "from qcml import QCML\n",
      "import cvxopt as o\n",
      "import ecos\n",
      "\n",
      "s = \"\"\"\n",
      "        dimensions m n\n",
      "        variable a(n)\n",
      "        variable b \n",
      "        parameter X(m,n)      # positive samples\n",
      "        parameter Y(m,n)    # negative samples\n",
      "        parameter gamma positive\n",
      "        minimize (norm(a) + gamma*sum(pos(1 - X*a + b) + pos(1 + Y*a - b)))\n",
      "        \"\"\"\n",
      "m = 900 #examples\n",
      "n = 700 #features\n",
      "np.random.seed(1)\n",
      "X = np.random.rand(m,n)*1\n",
      "Y = np.random.rand(m,n)*1\n",
      "gamma = 1"
     ],
     "language": "python",
     "metadata": {},
     "outputs": [],
     "prompt_number": 7
    },
    {
     "cell_type": "code",
     "collapsed": false,
     "input": [
      "p = QCML()\n",
      "p.parse(s)\n",
      "p.canonicalize()\n",
      "p.dims = {'m':m,'n':n}\n",
      "p.codegen('python')\n",
      "socp_vars = p.prob2socp(locals())"
     ],
     "language": "python",
     "metadata": {},
     "outputs": [
      {
       "output_type": "stream",
       "stream": "stdout",
       "text": [
        "parse took 0.025577 secs\n",
        "canonicalize"
       ]
      },
      {
       "output_type": "stream",
       "stream": "stdout",
       "text": [
        " took 0.036152 secs\n",
        "codegen took 0.007733 secs\n"
       ]
      }
     ],
     "prompt_number": 8
    },
    {
     "cell_type": "code",
     "collapsed": false,
     "input": [
      "socp_vars"
     ],
     "language": "python",
     "metadata": {},
     "outputs": [
      {
       "output_type": "pyout",
       "prompt_number": 9,
       "text": [
        "{'A': <0x2502 sparse matrix, tc='d', nnz=0>,\n",
        " 'G': <4301x2502 sparse matrix, tc='d', nnz=1266101>,\n",
        " 'b': <0x1 matrix, tc='d'>,\n",
        " 'c': <2502x1 matrix, tc='d'>,\n",
        " 'dims': {'l': 3600, 'q': [701], 's': []},\n",
        " 'h': <4301x1 matrix, tc='d'>}"
       ]
      }
     ],
     "prompt_number": 9
    },
    {
     "cell_type": "code",
     "collapsed": false,
     "input": [
      "sol = ecos.ecos(**socp_vars)"
     ],
     "language": "python",
     "metadata": {},
     "outputs": [
      {
       "output_type": "stream",
       "stream": "stdout",
       "text": [
        "\n",
        "ECOS - (c) A. Domahidi, Automatic Control Laboratory, ETH Zurich, 2012-13.\n",
        "\n",
        "It     pcost         dcost      gap     pres    dres     k/t     mu     step    IR\n",
        " 0   +5.532e+02   +5.437e+03   +4e+04   5e+00   2e+01   1e+00   1e+01   N/A    2 1 -\n",
        " 1   +6.598e+02   +4.621e+03   +4e+04   4e+00   2e+01   4e+00   1e+01  0.1852  2 2 2\n"
       ]
      },
      {
       "output_type": "stream",
       "stream": "stdout",
       "text": [
        " 2   +7.111e+02   +4.547e+03   +4e+04   4e+00   2e+01   8e+00   1e+01  0.1485  2 2 1\n",
        " 3   +8.912e+02   +1.485e+03   +1e+04   6e-01   2e+00   2e+01   4e+00  0.9790  1 2 2\n"
       ]
      },
      {
       "output_type": "stream",
       "stream": "stdout",
       "text": [
        " 4   +8.273e+02   +1.060e+03   +6e+03   2e-01   1e+00   1e+01   2e+00  0.6276  2 1 2\n",
        " 5   +7.957e+02   +8.920e+02   +3e+03   1e-01   4e-01   4e+00   8e-01  0.6577  2 2 1\n"
       ]
      },
      {
       "output_type": "stream",
       "stream": "stdout",
       "text": [
        " 6   +7.804e+02   +8.178e+02   +1e+03   4e-02   2e-01   1e+00   3e-01  0.7046  2 2 2\n",
        " 7   +7.740e+02   +7.894e+02   +4e+02   2e-02   7e-02   3e-01   1e-01  0.7036  1 1 1\n"
       ]
      },
      {
       "output_type": "stream",
       "stream": "stdout",
       "text": [
        " 8   +7.711e+02   +7.768e+02   +2e+02   6e-03   2e-02   9e-02   5e-02  0.7132  2 1 1\n",
        " 9   +7.702e+02   +7.733e+02   +9e+01   3e-03   1e-02   4e-02   2e-02  0.5799  2 1 1\n"
       ]
      },
      {
       "output_type": "stream",
       "stream": "stdout",
       "text": [
        "10   +7.695e+02   +7.705e+02   +3e+01   1e-03   4e-03   7e-03   8e-03  0.8452  2 1 1\n",
        "11   +7.693e+02   +7.698e+02   +1e+01   5e-04   2e-03   3e-03   4e-03  0.6059  2 1 1\n"
       ]
      },
      {
       "output_type": "stream",
       "stream": "stdout",
       "text": [
        "12   +7.692e+02   +7.694e+02   +5e+00   2e-04   8e-04   9e-04   2e-03  0.6845  1 1 1\n",
        "13   +7.692e+02   +7.692e+02   +2e+00   7e-05   3e-04   2e-04   5e-04  0.8255  1 1 1\n"
       ]
      },
      {
       "output_type": "stream",
       "stream": "stdout",
       "text": [
        "14   +7.692e+02   +7.692e+02   +3e-01   1e-05   5e-05   2e-05   9e-05  0.8687  2 1 1\n",
        "15   +7.692e+02   +7.692e+02   +7e-02   2e-06   1e-05   5e-06   2e-05  0.8266  2 1 1\n"
       ]
      },
      {
       "output_type": "stream",
       "stream": "stdout",
       "text": [
        "16   +7.692e+02   +7.692e+02   +2e-02   7e-07   3e-06   5e-07   6e-06  0.9790  2 2 2\n",
        "17   +7.692e+02   +7.692e+02   +4e-03   1e-07   6e-07   1e-07   1e-06  0.8466  3 1 1\n"
       ]
      },
      {
       "output_type": "stream",
       "stream": "stdout",
       "text": [
        "18   +7.692e+02   +7.692e+02   +1e-03   4e-08   2e-07   3e-08   3e-07  0.8698  2 2 2\n",
        "19   +7.692e+02   +7.692e+02   +3e-04   1e-08   5e-08   8e-09   9e-08  0.8211  3 2 2\n"
       ]
      },
      {
       "output_type": "stream",
       "stream": "stdout",
       "text": [
        "\n",
        "OPTIMAL (within feastol=1.0e-05, reltol=1.0e-06, abstol=1.0e-06).\n",
        "Runtime: 39.970647 seconds.\n",
        "\n"
       ]
      }
     ],
     "prompt_number": 10
    },
    {
     "cell_type": "code",
     "collapsed": false,
     "input": [
      "sol"
     ],
     "language": "python",
     "metadata": {},
     "outputs": [
      {
       "output_type": "pyout",
       "prompt_number": 9,
       "text": [
        "{'info': {'dcost': 32.107338720377435,\n",
        "  'dinf': 0.0,\n",
        "  'dinfres': nan,\n",
        "  'dres': 6.334701373253308e-08,\n",
        "  'exitFlag': 0,\n",
        "  'gap': 2.9107117695215123e-05,\n",
        "  'infostring': 'Optimal solution found',\n",
        "  'iter': 11,\n",
        "  'numerr': 0,\n",
        "  'pcost': 32.107337074492136,\n",
        "  'pinf': 0.0,\n",
        "  'pinfres': 2.7640547045558033,\n",
        "  'pres': 5.996267728079847e-08,\n",
        "  'r0': 1e-05,\n",
        "  'relgap': 9.06556533654464e-07,\n",
        "  'timing': {'runtime': 0.004235207,\n",
        "   'tsetup': 0.000283102,\n",
        "   'tsolve': 0.003952105}},\n",
        " 's': <141x1 matrix, tc='d'>,\n",
        " 'x': <82x1 matrix, tc='d'>,\n",
        " 'y': <0x1 matrix, tc='d'>,\n",
        " 'z': <141x1 matrix, tc='d'>}"
       ]
      }
     ],
     "prompt_number": 9
    },
    {
     "cell_type": "code",
     "collapsed": false,
     "input": [
      "import multiprocessing\n",
      "\n",
      "def worker(num):\n",
      "    print \"worker\", num\n",
      "    return\n",
      "    \n",
      "jobs = []\n",
      "for i in range(10):\n",
      "    p = multiprocessing.Process(target=worker,args=(i,))\n",
      "    jobs.append(p)\n",
      "    p.start()"
     ],
     "language": "python",
     "metadata": {},
     "outputs": [],
     "prompt_number": "*"
    },
    {
     "cell_type": "code",
     "collapsed": false,
     "input": [],
     "language": "python",
     "metadata": {},
     "outputs": []
    }
   ],
   "metadata": {}
  }
 ]
}