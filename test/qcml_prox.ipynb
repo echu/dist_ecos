{
 "metadata": {
  "name": ""
 },
 "nbformat": 3,
 "nbformat_minor": 0,
 "worksheets": [
  {
   "cells": [
    {
     "cell_type": "code",
     "collapsed": false,
     "input": [
      "%load problem.py\n",
      "%load qcml_prox.py"
     ],
     "language": "python",
     "metadata": {},
     "outputs": [
      {
       "output_type": "stream",
       "stream": "stdout",
       "text": [
        "Overwriting problem.py\n"
       ]
      }
     ],
     "prompt_number": 4
    },
    {
     "cell_type": "code",
     "collapsed": false,
     "input": [
      "%%bash\n",
      "python qcml_prox.py > temp.out"
     ],
     "language": "python",
     "metadata": {},
     "outputs": [
      {
       "output_type": "stream",
       "stream": "stderr",
       "text": [
        "/Users/ajfriend/anaconda/lib/python2.7/site-packages/ecos.py:24: UserWarning: Converting G to a CSC matrix; may take a while.\n",
        "  warn(\"Converting G to a CSC matrix; may take a while.\")\n",
        "/Users/ajfriend/anaconda/lib/python2.7/site-packages/ecos.py:27: UserWarning: Converting A to a CSC matrix; may take a while.\n",
        "  warn(\"Converting A to a CSC matrix; may take a while.\")\n"
       ]
      }
     ],
     "prompt_number": 3
    },
    {
     "cell_type": "code",
     "collapsed": false,
     "input": [
      "%run problem.py"
     ],
     "language": "python",
     "metadata": {},
     "outputs": [
      {
       "output_type": "stream",
       "stream": "stdout",
       "text": [
        "parse took 0.002798 secs\n",
        "canonicalize took 0.001347 secs\n",
        "codegen took 0.002214 secs\n",
        "\n",
        "ECOS - (c) A. Domahidi, Automatic Control Laboratory, ETH Zurich, 2012-13.\n",
        "\n",
        "It     pcost         dcost      gap     pres    dres     k/t     mu     step    IR\n",
        " 0   +0.000e+00   -0.000e+00   +3e+01   8e+00   4e-02   1e+00   7e-01   N/A    1 1 -\n",
        " 1   +5.610e-01   +5.610e-01   +4e+00   1e+00   6e-03   2e-01   1e-01  0.8444  1 1 1\n",
        " 2   +1.886e+00   +1.885e+00   +8e-01   2e-01   1e-03   3e-02   2e-02  0.8438  1 1 1\n",
        " 3   +2.079e+00   +2.078e+00   +2e-01   7e-02   3e-04   8e-03   6e-03  0.7330  1 1 1\n",
        " 4   +2.109e+00   +2.108e+00   +7e-02   2e-02   1e-04   2e-03   2e-03  0.8360  1 1 1\n",
        " 5   +2.127e+00   +2.127e+00   +2e-02   5e-03   2e-05   5e-04   4e-04  0.7772  1 1 1\n",
        " 6   +2.129e+00   +2.129e+00   +5e-03   1e-03   7e-06   1e-04   1e-04  0.7518  1 1 1\n",
        " 7   +2.131e+00   +2.131e+00   +2e-04   7e-05   3e-07   6e-06   6e-06  0.9790  1 1 1\n",
        " 8   +2.131e+00   +2.131e+00   +5e-06   2e-06   8e-09   1e-07   1e-07  0.9790  1 1 1\n",
        " 9   +2.131e+00   +2.131e+00   +1e-07   3e-08   2e-10   3e-09   3e-09  0.9790  1 1 1\n",
        "\n",
        "OPTIMAL (within feastol=1.0e-05, reltol=1.0e-06, abstol=1.0e-06).\n",
        "Runtime: 0.000607 seconds.\n",
        "\n",
        "parse took 0.004646 secs\n",
        "canonicalize took 0.001631 secs\n",
        "codegen took 0.002875 secs\n",
        "\n",
        "ECOS - (c) A. Domahidi, Automatic Control Laboratory, ETH Zurich, 2012-13.\n",
        "\n",
        "It     pcost         dcost      gap     pres    dres     k/t     mu     step    IR\n",
        " 0   +6.212e+00   +1.664e+00   +3e+02   3e+00   6e+00   1e+00   2e+01   N/A    1 1 -\n",
        " 1   +9.781e+00   +1.076e+01   +2e+02   3e+00   4e+00   5e+00   1e+01  0.4785  1 1 1\n",
        " 2   +6.762e+00   +9.257e+00   +1e+02   7e-01   1e+00   4e+00   6e+00  0.5488  1 1 1\n",
        " 3   +1.944e+00   +4.592e+00   +7e+01   6e-01   1e+00   4e+00   5e+00  0.5958  1 1 1\n",
        " 4   +3.557e+00   +4.480e+00   +4e+01   3e-01   5e-01   1e+00   3e+00  0.7157  1 1 1\n",
        " 5   +3.319e+00   +3.555e+00   +9e+00   6e-02   1e-01   3e-01   6e-01  0.8436  1 1 1\n",
        " 6   +2.781e+00   +2.873e+00   +4e+00   3e-02   5e-02   1e-01   3e-01  0.8059  2 1 1\n",
        " 7   +2.637e+00   +2.652e+00   +8e-01   5e-03   9e-03   2e-02   5e-02  0.8525  1 1 1\n",
        " 8   +2.565e+00   +2.568e+00   +3e-01   2e-03   3e-03   7e-03   2e-02  0.8876  2 1 1\n",
        " 9   +2.546e+00   +2.547e+00   +3e-02   2e-04   3e-04   6e-04   2e-03  0.9306  2 1 1\n",
        "10   +2.544e+00   +2.544e+00   +2e-03   1e-05   2e-05   4e-05   1e-04  0.9415  1 1 1\n",
        "11   +2.544e+00   +2.544e+00   +2e-04   1e-06   2e-06   4e-06   1e-05  0.9005  2 1 1\n",
        "12   +2.544e+00   +2.544e+00   +4e-05   3e-07   5e-07   9e-07   3e-06  0.7907  2 2 2\n",
        "13   +2.544e+00   +2.544e+00   +3e-06   2e-08   3e-08   5e-08   2e-07  0.9537  3 3 3\n",
        "14   +2.544e+00   +2.544e+00   +6e-07   4e-09   7e-09   1e-08   4e-08  0.7988  3 2 2\n",
        "\n",
        "OPTIMAL (within feastol=1.0e-05, reltol=1.0e-06, abstol=1.0e-06).\n",
        "Runtime: 0.001172 seconds.\n",
        "\n",
        "{'A': <10x40 sparse matrix of type '<type 'numpy.float64'>'\n",
        "\twith 200 stored elements in Compressed Sparse Row format>, 'c': array([ 0.,  0.,  0.,  0.,  0.,  0.,  0.,  0.,  0.,  0.,  0.,  0.,  0.,\n",
        "        0.,  0.,  0.,  0.,  0.,  0.,  0.,  1.,  1.,  1.,  1.,  1.,  1.,\n",
        "        1.,  1.,  1.,  1.,  1.,  1.,  1.,  1.,  1.,  1.,  1.,  1.,  1.,  1.]), 'b': array([-1.12337623, -1.18993456, -0.82417122,  0.13167273,  0.08419025,\n",
        "       -1.67015219,  0.04269901,  0.32961862, -1.0089396 , -0.16554774]), 'G': <40x40 sparse matrix of type '<type 'numpy.float64'>'\n",
        "\twith 80 stored elements in Compressed Sparse Row format>, 'h': array([ 0.,  0.,  0.,  0.,  0.,  0.,  0.,  0.,  0.,  0.,  0.,  0.,  0.,\n",
        "        0.,  0.,  0.,  0.,  0.,  0.,  0.,  0.,  0.,  0.,  0.,  0.,  0.,\n",
        "        0.,  0.,  0.,  0.,  0.,  0.,  0.,  0.,  0.,  0.,  0.,  0.,  0.,  0.]), 'dims': {'q': [], 's': [], 'l': 40}}\n",
        "{'A': <40x50 sparse matrix of type '<type 'numpy.float64'>'\n",
        "\twith 280 stored elements in Compressed Sparse Row format>, 'c': array([-1.12337623, -1.18993456, -0.82417122,  0.13167273,  0.08419025,\n",
        "       -1.67015219,  0.04269901,  0.32961862, -1.0089396 , -0.16554774,\n",
        "        0.        ,  0.        ,  0.        ,  0.        ,  0.        ,\n",
        "        0.        ,  0.        ,  0.        ,  0.        ,  0.        ,\n",
        "        0.        ,  0.        ,  0.        ,  0.        ,  0.        ,\n",
        "        0.        ,  0.        ,  0.        ,  0.        ,  0.        ,\n",
        "        0.        ,  0.        ,  0.        ,  0.        ,  0.        ,\n",
        "        0.        ,  0.        ,  0.        ,  0.        ,  0.        ,\n",
        "        0.        ,  0.        ,  0.        ,  0.        ,  0.        ,\n",
        "        0.        ,  0.        ,  0.        ,  0.        ,  0.        ]), 'b': array([-0., -0., -0., -0., -0., -0., -0., -0., -0., -0., -0., -0., -0.,\n",
        "       -0., -0., -0., -0., -0., -0., -0., -1., -1., -1., -1., -1., -1.,\n",
        "       -1., -1., -1., -1., -1., -1., -1., -1., -1., -1., -1., -1., -1., -1.]), 'G': <40x50 sparse matrix of type '<type 'numpy.float64'>'\n",
        "\twith 40 stored elements in COOrdinate format>, 'h': array([ 0.,  0.,  0.,  0.,  0.,  0.,  0.,  0.,  0.,  0.,  0.,  0.,  0.,\n",
        "        0.,  0.,  0.,  0.,  0.,  0.,  0.,  0.,  0.,  0.,  0.,  0.,  0.,\n",
        "        0.,  0.,  0.,  0.,  0.,  0.,  0.,  0.,  0.,  0.,  0.,  0.,  0.,  0.]), 'dims': {'q': [], 's': [], 'l': 40}}\n"
       ]
      }
     ],
     "prompt_number": 25
    },
    {
     "cell_type": "code",
     "collapsed": false,
     "input": [
      "sp.hstack([gp.socp_vars['A'].T, gp.socp_vars['G'].T], 'csr')"
     ],
     "language": "python",
     "metadata": {},
     "outputs": [
      {
       "metadata": {},
       "output_type": "pyout",
       "prompt_number": 14,
       "text": [
        "<40x50 sparse matrix of type '<type 'numpy.float64'>'\n",
        "\twith 280 stored elements in Compressed Sparse Row format>"
       ]
      }
     ],
     "prompt_number": 14
    },
    {
     "cell_type": "code",
     "collapsed": false,
     "input": [
      "import scipy.sparse as sp\n",
      "import numpy as np"
     ],
     "language": "python",
     "metadata": {},
     "outputs": [],
     "prompt_number": 16
    },
    {
     "cell_type": "code",
     "collapsed": false,
     "input": [
      "a = np.hstack([gp.socp_vars['b'],gp.socp_vars['h']])"
     ],
     "language": "python",
     "metadata": {},
     "outputs": [],
     "prompt_number": 20
    },
    {
     "cell_type": "code",
     "collapsed": false,
     "input": [
      "a.shape"
     ],
     "language": "python",
     "metadata": {},
     "outputs": [
      {
       "metadata": {},
       "output_type": "pyout",
       "prompt_number": 21,
       "text": [
        "(50,)"
       ]
      }
     ],
     "prompt_number": 21
    },
    {
     "cell_type": "code",
     "collapsed": false,
     "input": [
      "spy(gp.socp_vars['A'])"
     ],
     "language": "python",
     "metadata": {},
     "outputs": [
      {
       "metadata": {},
       "output_type": "pyout",
       "prompt_number": 27,
       "text": [
        "<matplotlib.lines.Line2D at 0x1068f78d0>"
       ]
      }
     ],
     "prompt_number": 27
    },
    {
     "cell_type": "code",
     "collapsed": false,
     "input": [
      "spy(dual['G'])"
     ],
     "language": "python",
     "metadata": {},
     "outputs": [
      {
       "metadata": {},
       "output_type": "pyout",
       "prompt_number": 29,
       "text": [
        "<matplotlib.lines.Line2D at 0x1069dc910>"
       ]
      }
     ],
     "prompt_number": 29
    },
    {
     "cell_type": "code",
     "collapsed": false,
     "input": [
      "%run reduced_form.py"
     ],
     "language": "python",
     "metadata": {},
     "outputs": [
      {
       "output_type": "stream",
       "stream": "stdout",
       "text": [
        "parse took 0.007777 secs\n",
        "canonicalize took 0.001065 secs\n",
        "codegen took 0.001599 secs\n",
        "\n",
        "ECOS - (c) A. Domahidi, Automatic Control Laboratory, ETH Zurich, 2012-13.\n",
        "\n",
        "It     pcost         dcost      gap     pres    dres     k/t     mu     step    IR\n",
        " 0   +0.000e+00   -0.000e+00   +3e+01   9e+00   4e-02   1e+00   7e-01   N/A    1 1 -\n",
        " 1   +6.283e-01   +6.278e-01   +5e+00   1e+00   7e-03   2e-01   1e-01  0.8374  1 1 1\n",
        " 2   +1.834e+00   +1.833e+00   +1e+00   3e-01   2e-03   4e-02   3e-02  0.8021  1 1 1\n",
        " 3   +2.067e+00   +2.067e+00   +3e-01   8e-02   4e-04   8e-03   7e-03  0.7982  1 1 1\n",
        " 4   +2.133e+00   +2.133e+00   +1e-01   3e-02   1e-04   3e-03   2e-03  0.6617  1 1 1\n",
        " 5   +2.145e+00   +2.145e+00   +3e-02   1e-02   5e-05   1e-03   9e-04  0.7264  1 1 1\n",
        " 6   +2.155e+00   +2.155e+00   +5e-03   2e-03   7e-06   1e-04   1e-04  0.9133  1 1 1\n",
        " 7   +2.156e+00   +2.156e+00   +1e-04   4e-05   2e-07   3e-06   3e-06  0.9770  1 1 1\n",
        " 8   +2.156e+00   +2.156e+00   +3e-06   8e-07   4e-09   8e-08   7e-08  0.9790  1 1 1\n",
        " 9   +2.156e+00   +2.156e+00   +6e-08   2e-08   8e-11   2e-09   2e-09  0.9790  1 1 1\n",
        "\n",
        "OPTIMAL (within feastol=1.0e-05, reltol=1.0e-06, abstol=1.0e-06).\n",
        "Runtime: 0.001196 seconds.\n",
        "\n",
        "{'A': <10x40 sparse matrix of type '<type 'numpy.float64'>'\n",
        "\twith 200 stored elements in Compressed Sparse Row format>, 'c': array([ 1.,  1.,  1.,  1.,  1.,  1.,  1.,  1.,  1.,  1.,  1.,  1.,  1.,\n",
        "        1.,  1.,  1.,  1.,  1.,  1.,  1.,  0.,  0.,  0.,  0.,  0.,  0.,\n",
        "        0.,  0.,  0.,  0.,  0.,  0.,  0.,  0.,  0.,  0.,  0.,  0.,  0.,  0.]), 'b': array([ 1.30933614, -0.51308508, -0.04598385, -0.67098833,  0.88448881,\n",
        "        1.92729838,  0.06038299, -0.04158916, -0.64452512, -0.63537017]), 'G': <40x40 sparse matrix of type '<type 'numpy.float64'>'\n",
        "\twith 80 stored elements in Compressed Sparse Row format>, 'h': array([ 0.,  0.,  0.,  0.,  0.,  0.,  0.,  0.,  0.,  0.,  0.,  0.,  0.,\n",
        "        0.,  0.,  0.,  0.,  0.,  0.,  0.,  0.,  0.,  0.,  0.,  0.,  0.,\n",
        "        0.,  0.,  0.,  0.,  0.,  0.,  0.,  0.,  0.,  0.,  0.,  0.,  0.,  0.]), 'dims': {'q': [], 's': [], 'l': 40}}\n"
       ]
      },
      {
       "output_type": "stream",
       "stream": "stderr",
       "text": [
        "/Users/ajfriend/anaconda/lib/python2.7/site-packages/ecos.py:24: UserWarning: Converting G to a CSC matrix; may take a while.\n",
        "  warn(\"Converting G to a CSC matrix; may take a while.\")\n",
        "/Users/ajfriend/anaconda/lib/python2.7/site-packages/ecos.py:27: UserWarning: Converting A to a CSC matrix; may take a while.\n",
        "  warn(\"Converting A to a CSC matrix; may take a while.\")\n"
       ]
      }
     ],
     "prompt_number": 1
    },
    {
     "cell_type": "code",
     "collapsed": false,
     "input": [
      "gp"
     ],
     "language": "python",
     "metadata": {},
     "outputs": [
      {
       "metadata": {},
       "output_type": "pyout",
       "prompt_number": 2,
       "text": [
        "<problem.GlobalProblem at 0x1062db490>"
       ]
      }
     ],
     "prompt_number": 2
    },
    {
     "cell_type": "code",
     "collapsed": false,
     "input": [
      "A = gp.socp_vars['A'].tocoo()\n",
      "G = gp.socp_vars['G'].tocoo()"
     ],
     "language": "python",
     "metadata": {},
     "outputs": [],
     "prompt_number": 16
    },
    {
     "cell_type": "code",
     "collapsed": false,
     "input": [
      "type(A)"
     ],
     "language": "python",
     "metadata": {},
     "outputs": [
      {
       "metadata": {},
       "output_type": "pyout",
       "prompt_number": 17,
       "text": [
        "scipy.sparse.coo.coo_matrix"
       ]
      }
     ],
     "prompt_number": 17
    },
    {
     "cell_type": "code",
     "collapsed": false,
     "input": [
      "spy(G)"
     ],
     "language": "python",
     "metadata": {},
     "outputs": [
      {
       "metadata": {},
       "output_type": "pyout",
       "prompt_number": 32,
       "text": [
        "<matplotlib.lines.Line2D at 0x1078cf790>"
       ]
      }
     ],
     "prompt_number": 32
    },
    {
     "cell_type": "code",
     "collapsed": false,
     "input": [
      "np.unique(np.hstack([A.col]), return_inverse=True)"
     ],
     "language": "python",
     "metadata": {},
     "outputs": [
      {
       "metadata": {},
       "output_type": "pyout",
       "prompt_number": 35,
       "text": [
        "(array([20, 21, 22, 23, 24, 25, 26, 27, 28, 29, 30, 31, 32, 33, 34, 35, 36,\n",
        "       37, 38, 39], dtype=int32),\n",
        " array([ 0,  1,  2,  3,  4,  5,  6,  7,  8,  9, 10, 11, 12, 13, 14, 15, 16,\n",
        "       17, 18, 19,  0,  1,  2,  3,  4,  5,  6,  7,  8,  9, 10, 11, 12, 13,\n",
        "       14, 15, 16, 17, 18, 19,  0,  1,  2,  3,  4,  5,  6,  7,  8,  9, 10,\n",
        "       11, 12, 13, 14, 15, 16, 17, 18, 19,  0,  1,  2,  3,  4,  5,  6,  7,\n",
        "        8,  9, 10, 11, 12, 13, 14, 15, 16, 17, 18, 19,  0,  1,  2,  3,  4,\n",
        "        5,  6,  7,  8,  9, 10, 11, 12, 13, 14, 15, 16, 17, 18, 19,  0,  1,\n",
        "        2,  3,  4,  5,  6,  7,  8,  9, 10, 11, 12, 13, 14, 15, 16, 17, 18,\n",
        "       19,  0,  1,  2,  3,  4,  5,  6,  7,  8,  9, 10, 11, 12, 13, 14, 15,\n",
        "       16, 17, 18, 19,  0,  1,  2,  3,  4,  5,  6,  7,  8,  9, 10, 11, 12,\n",
        "       13, 14, 15, 16, 17, 18, 19,  0,  1,  2,  3,  4,  5,  6,  7,  8,  9,\n",
        "       10, 11, 12, 13, 14, 15, 16, 17, 18, 19,  0,  1,  2,  3,  4,  5,  6,\n",
        "        7,  8,  9, 10, 11, 12, 13, 14, 15, 16, 17, 18, 19]))"
       ]
      }
     ],
     "prompt_number": 35
    },
    {
     "cell_type": "code",
     "collapsed": false,
     "input": [
      "A.col"
     ],
     "language": "python",
     "metadata": {},
     "outputs": [
      {
       "metadata": {},
       "output_type": "pyout",
       "prompt_number": 37,
       "text": [
        "array([20, 21, 22, 23, 24, 25, 26, 27, 28, 29, 30, 31, 32, 33, 34, 35, 36,\n",
        "       37, 38, 39, 20, 21, 22, 23, 24, 25, 26, 27, 28, 29, 30, 31, 32, 33,\n",
        "       34, 35, 36, 37, 38, 39, 20, 21, 22, 23, 24, 25, 26, 27, 28, 29, 30,\n",
        "       31, 32, 33, 34, 35, 36, 37, 38, 39, 20, 21, 22, 23, 24, 25, 26, 27,\n",
        "       28, 29, 30, 31, 32, 33, 34, 35, 36, 37, 38, 39, 20, 21, 22, 23, 24,\n",
        "       25, 26, 27, 28, 29, 30, 31, 32, 33, 34, 35, 36, 37, 38, 39, 20, 21,\n",
        "       22, 23, 24, 25, 26, 27, 28, 29, 30, 31, 32, 33, 34, 35, 36, 37, 38,\n",
        "       39, 20, 21, 22, 23, 24, 25, 26, 27, 28, 29, 30, 31, 32, 33, 34, 35,\n",
        "       36, 37, 38, 39, 20, 21, 22, 23, 24, 25, 26, 27, 28, 29, 30, 31, 32,\n",
        "       33, 34, 35, 36, 37, 38, 39, 20, 21, 22, 23, 24, 25, 26, 27, 28, 29,\n",
        "       30, 31, 32, 33, 34, 35, 36, 37, 38, 39, 20, 21, 22, 23, 24, 25, 26,\n",
        "       27, 28, 29, 30, 31, 32, 33, 34, 35, 36, 37, 38, 39], dtype=int32)"
       ]
      }
     ],
     "prompt_number": 37
    },
    {
     "cell_type": "code",
     "collapsed": false,
     "input": [
      "#!/usr/bin/env python\n",
      "from qcml import QCML\n",
      "import numpy as np\n",
      "from numpy.random import randn\n",
      "\n",
      "\n",
      "if __name__ == '__main__':\n",
      "    \n",
      "    print \"Creating data.\"\n",
      "    n = 2      # number of features\n",
      "    m = 100   # number of examples\n",
      "    X = randn(m,n) - 1\n",
      "    Y = randn(m,n) + 1\n",
      "    gamma = 1\n",
      "\n",
      "    \n",
      "    print \"Creating SVM problem.\"\n",
      "    \n",
      "    # a QCML model is specified by strings\n",
      "    #   the parser parses each model line by line and builds an internal\n",
      "    #   representation of an SOCP\n",
      "    s = \"\"\"\n",
      "    dimensions m n\n",
      "    variable a(n)\n",
      "    variable b\n",
      "    parameter X(m,n)      # positive samples\n",
      "    parameter Y(m,n)      # negative samples\n",
      "    parameter gamma positive\n",
      "    minimize (norm(a) + gamma*sum(pos(1 - X*a + b) + pos(1 + Y*a - b)))\n",
      "    \"\"\"\n",
      "    print s\n",
      "    \n",
      "    raw_input(\"press ENTER to parse....\")\n",
      "    p = QCML(debug=True)\n",
      "    p.parse(s)        \n",
      "    \n",
      "    raw_input(\"press ENTER to canonicalize....\")\n",
      "    p.canonicalize()\n",
      "    \n",
      "    raw_input(\"press ENTER to generate code....\")\n",
      "    p.dims = {'n': n, 'm': m}\n",
      "    p.codegen(\"python\")\n",
      "    \n",
      "    raw_input(\"press ENTER to solve with ECOS....\")\n",
      "    socp_data = p.prob2socp(params=locals())\n",
      "    import ecos\n",
      "    sol = ecos.solve(**socp_data)\n"
     ],
     "language": "python",
     "metadata": {},
     "outputs": [
      {
       "output_type": "stream",
       "stream": "stdout",
       "text": [
        "Creating data.\n",
        "Creating SVM problem.\n",
        "\n",
        "    dimensions m n\n",
        "    variable a(n)\n",
        "    variable b\n",
        "    parameter X(m,n)      # positive samples\n",
        "    parameter Y(m,n)      # negative samples\n",
        "    parameter gamma positive\n",
        "    minimize (norm(a) + gamma*sum(pos(1 - X*a + b) + pos(1 + Y*a - b)))\n",
        "    \n"
       ]
      },
      {
       "name": "stdout",
       "output_type": "stream",
       "stream": "stdout",
       "text": [
        "press ENTER to parse....\n"
       ]
      },
      {
       "output_type": "stream",
       "stream": "stdout",
       "text": [
        "Program: True\n",
        "  Objective: True, Scalar()\n",
        "    Add: convex, positive, Scalar()\n",
        "      QC_norm: convex, positive, Scalar()\n",
        "        Variable: affine, neither, Vector(n), a\n",
        "      Mul: convex, positive, Scalar()\n",
        "        Parameter: constant, positive, Scalar(), gamma\n",
        "        Sum: convex, positive, Scalar()\n",
        "          Add: convex, positive, Vector(m)\n",
        "            QC_pos: convex, positive, Vector(m)\n",
        "              Add: affine, neither, Vector(m)\n",
        "                Add: affine, neither, Vector(m)\n",
        "                  Number: constant, positive, Scalar(), 1.0\n",
        "                  Mul: affine, neither, Vector(m)\n",
        "                    Number: constant, negative, Scalar(), -1\n",
        "                    Mul: affine, neither, Vector(m)\n",
        "                      Parameter: constant, neither, Matrix(m,n), X\n",
        "                      Variable: affine, neither, Vector(n), a\n",
        "                Variable: affine, neither, Scalar(), b\n",
        "              Number: constant, positive, Scalar(), 0\n",
        "            QC_pos: convex, positive, Vector(m)\n",
        "              Add: affine, neither, Vector(m)\n",
        "                Add: affine, neither, Vector(m)\n",
        "                  Number: constant, positive, Scalar(), 1.0\n",
        "                  Mul: affine, neither, Vector(m)\n",
        "                    Parameter: constant, neither, Matrix(m,n), Y\n",
        "                    Variable: affine, neither, Vector(n), a\n",
        "                Mul: affine, neither, Scalar()\n",
        "                  Number: constant, negative, Scalar(), -1\n",
        "                  Variable: affine, neither, Scalar(), b\n",
        "              Number: constant, positive, Scalar(), 0\n",
        "parse took 0.004328 secs\n"
       ]
      },
      {
       "name": "stdout",
       "output_type": "stream",
       "stream": "stdout",
       "text": [
        "press ENTER to canonicalize....\n"
       ]
      },
      {
       "output_type": "stream",
       "stream": "stdout",
       "text": [
        "minimize gamma*1'*_t7 + _t5 + gamma*1'*_t6\n",
        "subject to\n",
        "    1.0 + -1*X*a + -1*_t6 + b <= 0\n",
        "    1.0 + Y*a + -1*_t7 + -1*b <= 0\n",
        "    -1*_t6 <= 0\n",
        "    -1*_t7 <= 0\n",
        "    norm([a]) <= _t5\n",
        "canonicalize took 0.005963 secs\n"
       ]
      },
      {
       "name": "stdout",
       "output_type": "stream",
       "stream": "stdout",
       "text": [
        "press ENTER to generate code....\n"
       ]
      },
      {
       "output_type": "stream",
       "stream": "stdout",
       "text": [
        "1    def prob_to_socp(params):\n",
        "2        # maps 'params' into a dictionary of SOCP matrices\n",
        "3        # 'params' ought to contain:\n",
        "4        #   'Y' has shape Matrix(100,2)\n",
        "5        #   'X' has shape Matrix(100,2)\n",
        "6        #   'gamma' has shape Scalar()\n",
        "7        import numpy as np\n",
        "8        import scipy.sparse as sp\n",
        "9        import itertools\n",
        "10   \n",
        "11       p, m, n = 0, 403, 204\n",
        "12       c = np.zeros((n,))\n",
        "13       h = np.zeros((m,))\n",
        "14       b = np.zeros((p,))\n",
        "15       Gi, Gj, Gv = [], [], []\n",
        "16       Ai, Aj, Av = [], [], []\n",
        "17       dims = {'l': 400, 'q': [3], 's': []}\n",
        "18   \n",
        "19       # stuffing the objective vector\n",
        "20       c[3:4] = 1\n",
        "21       c[4:104] = params['gamma'] * np.ones((100,))\n",
        "22       c[104:204] = params['gamma'] * np.ones((100,))\n",
        "23   \n",
        "24       # for the constraint 1.0 + -1*X*a + -1*_t6 + b <= 0\n",
        "25       h[0:100] = -1.0\n",
        "26       result = sp.coo_matrix(np.dot(-1,params['X']))\n",
        "27       Gi.append((0 + 1*idx for idx in result.row))\n",
        "28       Gj.append((0 + 1*idx for idx in result.col))\n",
        "29       Gv.append((v for v in result.data))\n",
        "30       Gi.append(xrange(0, 100, 1))\n",
        "31       Gj.append(itertools.repeat(2, 100))\n",
        "32       Gv.append(itertools.repeat(1, 100))\n",
        "33       Gi.append(xrange(0, 100, 1))\n",
        "34       Gj.append(xrange(4, 104, 1))\n",
        "35       Gv.append(itertools.repeat(-1, 100))\n",
        "36   \n",
        "37       # for the constraint 1.0 + Y*a + -1*_t7 + -1*b <= 0\n",
        "38       h[100:200] = -1.0\n",
        "39       params['Y'] = sp.coo_matrix(params['Y'])\n",
        "40       Gi.append((100 + 1*idx for idx in params['Y'].row))\n",
        "41       Gj.append((0 + 1*idx for idx in params['Y'].col))\n",
        "42       Gv.append((v for v in params['Y'].data))\n",
        "43       Gi.append(xrange(100, 200, 1))\n",
        "44       Gj.append(itertools.repeat(2, 100))\n",
        "45       Gv.append(itertools.repeat(-1, 100))\n",
        "46       Gi.append(xrange(100, 200, 1))\n",
        "47       Gj.append(xrange(104, 204, 1))\n",
        "48       Gv.append(itertools.repeat(-1, 100))\n",
        "49   \n",
        "50       # for the constraint -1*_t6 <= 0\n",
        "51       Gi.append(xrange(200, 300, 1))\n",
        "52       Gj.append(xrange(4, 104, 1))\n",
        "53       Gv.append(itertools.repeat(-1, 100))\n",
        "54   \n",
        "55       # for the constraint -1*_t7 <= 0\n",
        "56       Gi.append(xrange(300, 400, 1))\n",
        "57       Gj.append(xrange(104, 204, 1))\n",
        "58       Gv.append(itertools.repeat(-1, 100))\n",
        "59   \n",
        "60       # for the SOC constraint norm([a]) <= _t5\n",
        "61       Gi.append(xrange(401, 403, 1))\n",
        "62       Gj.append(xrange(0, 2, 1))\n",
        "63       Gv.append(itertools.repeat(-1, 2))\n",
        "64       Gi.append([400])\n",
        "65       Gj.append([3])\n",
        "66       Gv.append([-1])\n",
        "67   \n",
        "68       # construct index and value lists for G and A\n",
        "69       Gi = np.fromiter(itertools.chain.from_iterable(Gi), dtype=np.int)\n",
        "70       Gj = np.fromiter(itertools.chain.from_iterable(Gj), dtype=np.int)\n",
        "71       Gv = np.fromiter(itertools.chain.from_iterable(Gv), dtype=np.double)\n",
        "72       Ai = np.fromiter(itertools.chain.from_iterable(Ai), dtype=np.int)\n",
        "73       Aj = np.fromiter(itertools.chain.from_iterable(Aj), dtype=np.int)\n",
        "74       Av = np.fromiter(itertools.chain.from_iterable(Av), dtype=np.double)\n",
        "75       if m > 0: G = sp.csc_matrix((Gv, np.vstack((Gi, Gj))), (m,n))\n",
        "76       else: G, h = None, None\n",
        "77       if p > 0: A = sp.csc_matrix((Av, np.vstack((Ai, Aj))), (p,n))\n",
        "78       else: A, b = None, None\n",
        "79       return {'c': c, 'G': G, 'h': h, 'A': A, 'b': b, 'dims': dims}\n",
        "\n",
        "1    def socp_to_prob(x):\n",
        "2        # recovers the problem variables from the solver variable 'x'\n",
        "3        return {'a' : x[0:2], 'b' : x[2:3]}\n",
        "\n",
        "codegen took 0.004513 secs\n"
       ]
      },
      {
       "name": "stdout",
       "output_type": "stream",
       "stream": "stdout",
       "text": [
        "press ENTER to solve with ECOS....\n"
       ]
      },
      {
       "output_type": "stream",
       "stream": "stdout",
       "text": [
        "\n",
        "ECOS - (c) A. Domahidi, Automatic Control Laboratory, ETH Zurich, 2012-13.\n",
        "\n",
        "It     pcost         dcost      gap     pres    dres     k/t     mu     step    IR\n",
        " 0   +2.974e+01   +3.279e+02   +1e+03   2e+00   3e+01   1e+00   3e+00   N/A    1 1 -\n",
        " 1   +4.348e+01   +1.429e+02   +7e+02   8e-01   1e+01   2e+00   2e+00  0.6284  2 1 1\n",
        " 2   +4.184e+01   +6.141e+01   +2e+02   2e-01   2e+00   5e-01   4e-01  0.7866  1 1 1\n",
        " 3   +3.877e+01   +4.803e+01   +7e+01   7e-02   1e+00   2e-01   2e-01  0.5759  1 1 1\n",
        " 4   +3.736e+01   +4.322e+01   +4e+01   5e-02   6e-01   1e-01   1e-01  0.5311  1 1 1\n",
        " 5   +3.630e+01   +3.960e+01   +2e+01   3e-02   3e-01   7e-02   6e-02  0.5160  1 1 1\n",
        " 6   +3.572e+01   +3.737e+01   +1e+01   1e-02   2e-01   3e-02   3e-02  0.6054  1 1 1\n",
        " 7   +3.513e+01   +3.559e+01   +3e+00   4e-03   5e-02   5e-03   8e-03  0.8926  1 1 1\n",
        " 8   +3.502e+01   +3.507e+01   +3e-01   4e-04   5e-03   5e-04   8e-04  0.8995  1 1 1\n",
        " 9   +3.501e+01   +3.502e+01   +4e-02   5e-05   7e-04   7e-05   1e-04  0.8708  1 1 1\n",
        "10   +3.501e+01   +3.501e+01   +6e-03   8e-06   1e-04   1e-05   2e-05  0.8763  2 1 1\n",
        "11   +3.501e+01   +3.501e+01   +1e-04   2e-07   2e-06   2e-07   4e-07  0.9784  1 1 1\n",
        "12   +3.501e+01   +3.501e+01   +4e-06   5e-09   6e-08   6e-09   1e-08  0.9736  1 1 1\n",
        "\n",
        "OPTIMAL (within feastol=1.0e-05, reltol=1.0e-06, abstol=1.0e-06).\n",
        "Runtime: 0.002902 seconds.\n",
        "\n"
       ]
      }
     ],
     "prompt_number": 44
    },
    {
     "cell_type": "code",
     "collapsed": false,
     "input": [
      "spy(socp_data['G'], marker='.')"
     ],
     "language": "python",
     "metadata": {},
     "outputs": [
      {
       "metadata": {},
       "output_type": "pyout",
       "prompt_number": 49,
       "text": [
        "<matplotlib.lines.Line2D at 0x1067e04d0>"
       ]
      }
     ],
     "prompt_number": 49
    },
    {
     "cell_type": "code",
     "collapsed": false,
     "input": [
      "socp_data"
     ],
     "language": "python",
     "metadata": {},
     "outputs": [
      {
       "metadata": {},
       "output_type": "pyout",
       "prompt_number": 48,
       "text": [
        "{'A': None,\n",
        " 'G': <403x204 sparse matrix of type '<type 'numpy.float64'>'\n",
        "\twith 1003 stored elements in Compressed Sparse Column format>,\n",
        " 'b': None,\n",
        " 'c': array([ 0.,  0.,  0.,  1.,  1.,  1.,  1.,  1.,  1.,  1.,  1.,  1.,  1.,\n",
        "        1.,  1.,  1.,  1.,  1.,  1.,  1.,  1.,  1.,  1.,  1.,  1.,  1.,\n",
        "        1.,  1.,  1.,  1.,  1.,  1.,  1.,  1.,  1.,  1.,  1.,  1.,  1.,\n",
        "        1.,  1.,  1.,  1.,  1.,  1.,  1.,  1.,  1.,  1.,  1.,  1.,  1.,\n",
        "        1.,  1.,  1.,  1.,  1.,  1.,  1.,  1.,  1.,  1.,  1.,  1.,  1.,\n",
        "        1.,  1.,  1.,  1.,  1.,  1.,  1.,  1.,  1.,  1.,  1.,  1.,  1.,\n",
        "        1.,  1.,  1.,  1.,  1.,  1.,  1.,  1.,  1.,  1.,  1.,  1.,  1.,\n",
        "        1.,  1.,  1.,  1.,  1.,  1.,  1.,  1.,  1.,  1.,  1.,  1.,  1.,\n",
        "        1.,  1.,  1.,  1.,  1.,  1.,  1.,  1.,  1.,  1.,  1.,  1.,  1.,\n",
        "        1.,  1.,  1.,  1.,  1.,  1.,  1.,  1.,  1.,  1.,  1.,  1.,  1.,\n",
        "        1.,  1.,  1.,  1.,  1.,  1.,  1.,  1.,  1.,  1.,  1.,  1.,  1.,\n",
        "        1.,  1.,  1.,  1.,  1.,  1.,  1.,  1.,  1.,  1.,  1.,  1.,  1.,\n",
        "        1.,  1.,  1.,  1.,  1.,  1.,  1.,  1.,  1.,  1.,  1.,  1.,  1.,\n",
        "        1.,  1.,  1.,  1.,  1.,  1.,  1.,  1.,  1.,  1.,  1.,  1.,  1.,\n",
        "        1.,  1.,  1.,  1.,  1.,  1.,  1.,  1.,  1.,  1.,  1.,  1.,  1.,\n",
        "        1.,  1.,  1.,  1.,  1.,  1.,  1.,  1.,  1.]),\n",
        " 'dims': {'l': 400, 'q': [3], 's': []},\n",
        " 'h': array([-1., -1., -1., -1., -1., -1., -1., -1., -1., -1., -1., -1., -1.,\n",
        "       -1., -1., -1., -1., -1., -1., -1., -1., -1., -1., -1., -1., -1.,\n",
        "       -1., -1., -1., -1., -1., -1., -1., -1., -1., -1., -1., -1., -1.,\n",
        "       -1., -1., -1., -1., -1., -1., -1., -1., -1., -1., -1., -1., -1.,\n",
        "       -1., -1., -1., -1., -1., -1., -1., -1., -1., -1., -1., -1., -1.,\n",
        "       -1., -1., -1., -1., -1., -1., -1., -1., -1., -1., -1., -1., -1.,\n",
        "       -1., -1., -1., -1., -1., -1., -1., -1., -1., -1., -1., -1., -1.,\n",
        "       -1., -1., -1., -1., -1., -1., -1., -1., -1., -1., -1., -1., -1.,\n",
        "       -1., -1., -1., -1., -1., -1., -1., -1., -1., -1., -1., -1., -1.,\n",
        "       -1., -1., -1., -1., -1., -1., -1., -1., -1., -1., -1., -1., -1.,\n",
        "       -1., -1., -1., -1., -1., -1., -1., -1., -1., -1., -1., -1., -1.,\n",
        "       -1., -1., -1., -1., -1., -1., -1., -1., -1., -1., -1., -1., -1.,\n",
        "       -1., -1., -1., -1., -1., -1., -1., -1., -1., -1., -1., -1., -1.,\n",
        "       -1., -1., -1., -1., -1., -1., -1., -1., -1., -1., -1., -1., -1.,\n",
        "       -1., -1., -1., -1., -1., -1., -1., -1., -1., -1., -1., -1., -1.,\n",
        "       -1., -1., -1., -1., -1.,  0.,  0.,  0.,  0.,  0.,  0.,  0.,  0.,\n",
        "        0.,  0.,  0.,  0.,  0.,  0.,  0.,  0.,  0.,  0.,  0.,  0.,  0.,\n",
        "        0.,  0.,  0.,  0.,  0.,  0.,  0.,  0.,  0.,  0.,  0.,  0.,  0.,\n",
        "        0.,  0.,  0.,  0.,  0.,  0.,  0.,  0.,  0.,  0.,  0.,  0.,  0.,\n",
        "        0.,  0.,  0.,  0.,  0.,  0.,  0.,  0.,  0.,  0.,  0.,  0.,  0.,\n",
        "        0.,  0.,  0.,  0.,  0.,  0.,  0.,  0.,  0.,  0.,  0.,  0.,  0.,\n",
        "        0.,  0.,  0.,  0.,  0.,  0.,  0.,  0.,  0.,  0.,  0.,  0.,  0.,\n",
        "        0.,  0.,  0.,  0.,  0.,  0.,  0.,  0.,  0.,  0.,  0.,  0.,  0.,\n",
        "        0.,  0.,  0.,  0.,  0.,  0.,  0.,  0.,  0.,  0.,  0.,  0.,  0.,\n",
        "        0.,  0.,  0.,  0.,  0.,  0.,  0.,  0.,  0.,  0.,  0.,  0.,  0.,\n",
        "        0.,  0.,  0.,  0.,  0.,  0.,  0.,  0.,  0.,  0.,  0.,  0.,  0.,\n",
        "        0.,  0.,  0.,  0.,  0.,  0.,  0.,  0.,  0.,  0.,  0.,  0.,  0.,\n",
        "        0.,  0.,  0.,  0.,  0.,  0.,  0.,  0.,  0.,  0.,  0.,  0.,  0.,\n",
        "        0.,  0.,  0.,  0.,  0.,  0.,  0.,  0.,  0.,  0.,  0.,  0.,  0.,\n",
        "        0.,  0.,  0.,  0.,  0.,  0.,  0.,  0.,  0.,  0.,  0.,  0.,  0.,\n",
        "        0.,  0.,  0.,  0.,  0.,  0.,  0.,  0.,  0.,  0.,  0.,  0.,  0.])}"
       ]
      }
     ],
     "prompt_number": 48
    },
    {
     "cell_type": "code",
     "collapsed": false,
     "input": [],
     "language": "python",
     "metadata": {},
     "outputs": []
    }
   ],
   "metadata": {}
  }
 ]
}